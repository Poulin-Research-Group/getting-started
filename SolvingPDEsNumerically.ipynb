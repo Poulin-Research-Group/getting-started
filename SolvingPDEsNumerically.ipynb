{
 "cells": [
  {
   "cell_type": "markdown",
   "metadata": {},
   "source": [
    "# Getting Started\n",
    "Continuing from the NEW_USERS.md guide.\n",
    "\n",
    "## Numerical Solutions to PDEs\n",
    "This is a field that has a vast amount of research done in it and it is insulting to attempt to summarize it here. Unfortunately, I am a rude person, so I will attempt to do exactly that.\n",
    "\n",
    "### The Finite Difference Method\n",
    "The basis of solving PDEs numerically is the idea of discretizing the derivatives and then iterating these discretizations through time (so time is also discretized!). Consider a simple first derivative:\n",
    "\n",
    "$$\\frac{du}{dx}$$\n",
    "\n",
    "Recall that we can calculate the derivative from first principles as such\n",
    "\n",
    "$$\\frac{du}{dx} = \\lim_{h\\to 0} \\frac{u(x+h) - u(x)}{h}$$\n",
    "\n",
    "The discretization of a derivative is based off of this concept. Suppose we had an interval $x\\in [a,b]$. For some integer $N_x$, let us split up this interval into $N_x+1$ partitions and label the end-points as $[x_i, x_{i+1}]$, $i=0,\\dots,N_x$. Then, the entire interval has $N_x+2$ points: a left-most point $x_0$, a right-most point $x_{N_x+1}$, and $N_x$ inner points $x_1, \\dots, x_{N_x}$. Let us also define\n",
    "\n",
    "$$U_i \\equiv u(x_i) $$\n",
    "\n",
    "so that an approximation to the derivative of $U$ can be expressed as\n",
    "\n",
    "$$\\frac{dU_i}{dx} = \\frac{U_{i+1} - U_i }{\\Delta x}$$\n",
    "\n",
    "where\n",
    "\n",
    "$$\\Delta x \\equiv \\frac{x_{N_x+1} - x_0}{N_x+1}$$\n",
    "\n",
    "As such, $U_{i+1}$ can be thought of as $u(x+h)$. If we were to take $N_x\\to\\infty$, then this would no longer be an approximation. This method is called the **finite difference method**.\n",
    "\n",
    "It can be shown (not here) that the second derivative can be written as\n",
    "\n",
    "$$\\frac{d^2U_i}{dx^2} = \\frac{U_{i+1} - 2U_i + U_{i-1} }{\\Delta x^2}$$\n",
    "\n",
    "### The Forward Euler Method\n",
    "The Forward Euler Method is a method used on ordinary differential equations (ODEs). It is quite similar to the finite difference method. Consider the problem\n",
    "\n",
    "$$ y'(t) = f(t,y(t)), \\qquad \\qquad y(t_0)=y_0 $$\n",
    "\n",
    "For some interval $t\\in [t_0, t_f]$. For some integer $N_t$, let us split this interval into $N_t-1$ partitions so we have $N_t$ points: a left-most point $t_0$ and a right-most point $t_{N_t-1} = t_f$.\n",
    "\n",
    "We can approximate the derivative like so:\n",
    "\n",
    "$$ y_n'(t) = \\frac{y_{n+1} - y_n}{\\Delta t} $$\n",
    "\n",
    "where $$\\Delta t \\equiv \\frac{t_f - t_0}{N}$$ Then\n",
    "\n",
    "$$ f(t,y(t)) = \\frac{y_{n+1} - y_n}{\\Delta t}$$\n",
    "\n",
    "which looks just like our finite difference method approach.\n",
    "\n",
    "\n",
    "### The Heat Equation\n",
    "Although this equation can be solved analytically, consider the 1D Heat Equation:\n",
    "\n",
    "$$ \\frac{\\partial u}{\\partial t} = \\kappa \\frac{\\partial^2 u}{\\partial x^2} $$\n",
    "\n",
    "Assuming $x\\in [0,L]$ and $t\\in[0,T]$, we will use the following initial condition and boundary conditions:\n",
    "\n",
    "$$ u(x,0) = f(x) $$\n",
    "\n",
    "$$ u(0,t) = \\alpha, \\quad u(L,t) = \\beta $$\n",
    "\n",
    "Physically, this set of equations can be thought of as a metal wire whose heat is distributed according to $f(x)$, while the left end of the rod is constantly being set to the temperature $\\alpha$ and the right end of the rod is constantly being set to the temperature $\\beta$.\n",
    "\n",
    "First discretizing the equation in space gives us\n",
    "\n",
    "$$ \\frac{du}{dt} = \\frac{\\kappa}{\\Delta x^2} (U_{i+1} - 2U_i + U_{i-1} ) $$\n",
    "\n",
    "where $i=1,\\dots,N_x$. The same \"set up\" (number of spatial and temporal intervals and points) is used. Now, if we discretize in time, we get\n",
    "\n",
    "$$ \\frac{U^{n+1}_i - U^n_i}{\\Delta t} = \\frac{\\kappa}{\\Delta x^2} (U^n_{i+1} - 2U^n_i + U^n_{i-1}) $$\n",
    "\n",
    "where $n=0,\\dots,N_t$. Note that $U^n_i = U(x_i, t_n)$. We can rearrange this equation to get\n",
    "\n",
    "$$ U^{n+1}_i = U^n_i + K (U^n_{i+1} - 2U^n_i + U^n_{i-1} ) $$\n",
    "\n",
    "where $K = \\frac{\\kappa \\Delta t}{\\Delta x^2} $. Further simplification yields\n",
    "\n",
    "$$ U^{n+1}_i = (1 - 2K)U^n_i + K (U^n_{i+1} + U^n_{i-1} ) $$ \n",
    "\n",
    "(An alteration to this, for the sake of optimization, is to define a constant to be $1 - 2K$ to reduce the number of FLOPs).\n",
    "\n",
    "You may be wondering how the initial/boundary conditions come into play. We must discretize them as well, so to speak:\n",
    "\n",
    "$$ U^0_i = f(x_i) \\quad i=1,\\dots,N_x $$\n",
    "\n",
    "$$ U^n_0 = \\alpha \\quad \\forall n $$\n",
    "\n",
    "$$ U^n_{m+1} = \\beta \\quad \\forall n $$\n",
    "\n",
    "So, we know the initial solution to our problem $(t = t_0)$. To find the solution for all points in time, we must step our initial solution through time. For example, calculating the solution at $t = t_1$:\n",
    "\n",
    "$$ U^1_0 = \\alpha $$\n",
    "\n",
    "$$ U^1_1 = (1 - 2K)U^0_1 + K(U^0_2 + U^0_0)$$\n",
    "$$ \\vdots $$\n",
    "$$ U^1_{N_x} = (1 - 2K)U^0_{N_x} + K(U^0_{N_x+1} + U^0_{N_x-1})$$\n",
    "\n",
    "$$ U^1_{N_x+1} = \\beta $$\n",
    "\n",
    "All of these points can be calculated simply enough. This process is repeated until reaching the endpoint in time.\n",
    "\n",
    "### Implementation of Solving the 1D Heat Equation Numerically\n",
    "Solving the heat equation numerically is simple enough, but doing it by hand would be quite awful and many mistakes would be made (the first mistake being the decision to do it by hand in the first place). Let's write a program to do it for us. Before we begin, let's install Python's numerical and plotting libraries. In a terminal, run\n",
    "\n",
    "```\n",
    "sudo apt-get install python-numpy python-scipy python-matplotlib\n",
    "```\n",
    "\n",
    "To make sure these libraries installed correctly, run an interactive Python shell by running `python` in the terminal, and then attempting to import `numpy`, `scipy` and `matplotlib` respectively. If you're not familiar with how Numpy works, see the section on Numpy.\n",
    "\n",
    "We'll first implement a pure Python solver, which will run slowly, but it will work! We will be solving the 1D heat equation with the following conditions:\n",
    "\n",
    "$$ x\\in[0,1] \\quad t\\in[0,300] $$\n",
    "\n",
    "$$ u(x,0) = \\sin(\\pi x) $$\n",
    "\n",
    "$$ u(0,t) = u(1,t) = 0 $$\n",
    "\n",
    "#### Python Implementation"
   ]
  },
  {
   "cell_type": "code",
   "execution_count": 2,
   "metadata": {
    "collapsed": false
   },
   "outputs": [
    {
     "name": "stdout",
     "output_type": "stream",
     "text": [
      "2.74682307243\n"
     ]
    }
   ],
   "source": [
    "from __future__ import division # this prevents integer division from occuring\n",
    "import math, copy, time\n",
    "\n",
    "# spatial conditions\n",
    "Nx = 1024           # number of inner x points\n",
    "x0 = 0              # start\n",
    "xf = 1              # end (L)\n",
    "dx = (xf-x0)/(Nx+1) # spatial step size\n",
    "\n",
    "x = [(x0 + i*dx) for i in xrange(Nx+2)]   # all x points, including endpoints\n",
    "\n",
    "\n",
    "# temporal conditions\n",
    "Nt = 10000      # number of time steps\n",
    "t0 = 0          # start\n",
    "tf = 300        # end\n",
    "dt = (tf-t0)/Nt # time step size\n",
    "\n",
    "t = [(t0 + i*dt) for i in xrange(Nt)]   # all times, including beginning and end\n",
    "\n",
    "\n",
    "# coefficients\n",
    "k = 0.0002    # kappa, the diffusitivity constant.\n",
    "K = 0.01      # the coefficient to the discretized PDE\n",
    "C = 1 - 2*K   # the coefficient to the first term...\n",
    "\n",
    "# Notice that we set K = 0.01, instead of  k*dt / dx**2 . This is because it would \n",
    "# take a much larger number of time steps or spatial points to make the algorithm \n",
    "# stable, so we just cheat and make it stable here.\n",
    "\n",
    "\n",
    "# initial condition function\n",
    "def f(x):\n",
    "    return math.sin(math.pi * x)\n",
    "\n",
    "\n",
    "# the initial solution (apply f to each spatial point)\n",
    "u  = [f(x_i) for x_i in x]\n",
    "un = copy.deepcopy(u)   # solution at next time step\n",
    "\n",
    "\n",
    "# our updater function\n",
    "# updates u to the next time step\n",
    "def update_u(un, u, C, K, Nx):\n",
    "    for i in xrange(1,Nx+1):\n",
    "        un[i]= C*u[i] + K*(u[i+1] + u[i-1])\n",
    "    return un\n",
    "\n",
    "# begin timer\n",
    "t_start = time.time()\n",
    "\n",
    "# loop through time\n",
    "for n in xrange(1,Nt):\n",
    "    un = update_u(un, u, C, K, Nx)\n",
    "    u = un\n",
    "    \n",
    "# end timer\n",
    "t_final = time.time()\n",
    "\n",
    "print t_final - t_start"
   ]
  },
  {
   "cell_type": "markdown",
   "metadata": {},
   "source": [
    "#### Numpy Implementation"
   ]
  },
  {
   "cell_type": "code",
   "execution_count": 1,
   "metadata": {
    "collapsed": false
   },
   "outputs": [
    {
     "name": "stdout",
     "output_type": "stream",
     "text": [
      "0.107331037521\n"
     ]
    }
   ],
   "source": [
    "from __future__ import division\n",
    "import time\n",
    "import numpy as np\n",
    "\n",
    "\n",
    "# spatial conditions\n",
    "Nx = 1024                    # number of inner x points\n",
    "x0 = 0                       # start\n",
    "xf = 1                       # end\n",
    "dx = (xf-x0)/(Nx+1)          # spatial step size\n",
    "x  = np.linspace(x0,xf,Nx+2) # x-axis points\n",
    "\n",
    "\n",
    "# temporal conditions\n",
    "Nt = 10000        # number of time steps\n",
    "t0 = 0            # start\n",
    "tf = 300          # end\n",
    "dt = (tf - t0)/Nt # time step size\n",
    "t  = np.linspace(t0, tf, Nt)\n",
    "\n",
    "\n",
    "# coefficients\n",
    "k = 0.0002    # kappa, the diffusitivity constant.\n",
    "K = 0.01      # the coefficient to the discretized PDE\n",
    "C = 1 - 2*K   # the coefficient to the first term...\n",
    "\n",
    "\n",
    "# initial condition function\n",
    "def f(x):\n",
    "    return np.sin(np.pi*x)\n",
    "\n",
    "\n",
    "# initial solution\n",
    "u  = np.array(f(x), dtype=np.float64)\n",
    "un = np.empty(Nx+2, dtype=np.float64)\n",
    "\n",
    "\n",
    "# our updater function\n",
    "# updates u to the next time step\n",
    "def update_u(un, u, C, K, Nx):\n",
    "    un[1:Nx+1] = C*u[1:Nx+1] + K*(u[0:Nx] + u[2:Nx+2])\n",
    "    return un\n",
    "\n",
    "# start timer\n",
    "t_start = time.time()\n",
    "\n",
    "# Loop over time\n",
    "for j in range(1,Nt):\n",
    "    un = update_u(un, u, C, K, Nx)  \n",
    "    u = un\n",
    "\n",
    "# end timer\n",
    "t_final = time.time()\n",
    "\n",
    "print t_final - t_start"
   ]
  },
  {
   "cell_type": "markdown",
   "metadata": {},
   "source": [
    "Notice the incredible speed up using Numpy! This is because a good chunk of Numpy is actually written in C.\n",
    "\n",
    "#### Numpy + Fortran implementation\n",
    "Fortran is a very old language that was built for computational mathematics. It's quite speedy. A very kind human being decided to write a Python module that allows for easy communication between Fortran programs and Python programs. What we can do is set up the problem in Python (Numpy), and do the \"number-crunching\" in Fortran. It takes a bit more code, but it's definitely doable. To do this, we must first install `f2py`, the aforementioned Python module. We can do this using Pip:\n",
    "\n",
    "```\n",
    "sudo pip install f2py\n",
    "```\n",
    "\n",
    "Now let's write some Fortran code!"
   ]
  },
  {
   "cell_type": "code",
   "execution_count": null,
   "metadata": {
    "collapsed": true
   },
   "outputs": [],
   "source": [
    "%%file heatFortran.f\n",
    "      subroutine heatf(un, u, C, K, Nx)\n",
    "      implicit none\n",
    "        \n",
    "      double precision un(Nx), u(Nx)\n",
    "      double precision C, K\n",
    "      integer Nx, i\n",
    "\n",
    "cf2py intent(in) :: un, u, C, K\n",
    "cf2py intent(hide) :: Nx\n",
    "cf2py intent(out) :: un\n",
    "\n",
    "      do i=2,Nx\n",
    "        un(i) = C*u(i) + K*(u(i+1) + u(i-1))\n",
    "      enddo\n",
    "            \n",
    "      end"
   ]
  },
  {
   "cell_type": "markdown",
   "metadata": {},
   "source": [
    "Now, we have to compile the code:\n"
   ]
  },
  {
   "cell_type": "code",
   "execution_count": null,
   "metadata": {
    "collapsed": true
   },
   "outputs": [],
   "source": [
    "!f2py -c -m heatFortran heatFortran.f"
   ]
  },
  {
   "cell_type": "markdown",
   "metadata": {},
   "source": [
    "Our Python script will look identical to our Numpy script, but with a different method for updating the solution. So, that being said, let's keep everything the same except let's reset our `u` and `un` variables."
   ]
  },
  {
   "cell_type": "code",
   "execution_count": 10,
   "metadata": {
    "collapsed": false
   },
   "outputs": [
    {
     "name": "stdout",
     "output_type": "stream",
     "text": [
      "0.0167858600616\n"
     ]
    }
   ],
   "source": [
    "# import our fortran function\n",
    "from heatFortran import heatf\n",
    "\n",
    "# initial solution\n",
    "u  = np.array(f(x), dtype=np.float64)\n",
    "un = np.zeros(Nx+2, dtype=np.float64)\n",
    "\n",
    "# start timer\n",
    "t_start = time.time()\n",
    "\n",
    "# Loop over time\n",
    "for j in range(1,Nt):\n",
    "    un = heatf(un, u, C, K)\n",
    "    u = un\n",
    "\n",
    "# end timer\n",
    "t_final = time.time()\n",
    "\n",
    "print t_final - t_start"
   ]
  },
  {
   "cell_type": "markdown",
   "metadata": {},
   "source": [
    "Even faster! Awesome. Unfortunately, writing Fortran takes much more time than writing Python/Numpy, so the increase in peformance is balanced out by an increase in the time taken to write the code. This is a big deal in the scientific community.\n",
    "\n",
    "This alone is pretty good progress, but on a large scale, this does not perform very well. We can improve our runtime by making use of multiple cores on our computers, which will be covered in the next part."
   ]
  },
  {
   "cell_type": "markdown",
   "metadata": {},
   "source": [
    "## Appendix\n",
    "### Using Numpy\n",
    "Numpy is a very powerful numerical library for Python. Its power comes from its \"array\" type, which allows for easy indexing and \"vectorized operations\" (applying operations to an entire set of elements).\n",
    "\n",
    "For example, consider a list of numbers from 1 to 10. Suppose we want to square every element in this list. Using just Python, this is simple enough:"
   ]
  },
  {
   "cell_type": "code",
   "execution_count": 4,
   "metadata": {
    "collapsed": false
   },
   "outputs": [
    {
     "name": "stdout",
     "output_type": "stream",
     "text": [
      "[1, 2, 3, 4, 5, 6, 7, 8, 9, 10]\n",
      "[1, 4, 9, 16, 25, 36, 49, 64, 81, 100]\n"
     ]
    }
   ],
   "source": [
    "L = range(1,11)\n",
    "print L\n",
    "\n",
    "for i in xrange(len(L)):\n",
    "    L[i] = L[i]**2\n",
    "print L"
   ]
  },
  {
   "cell_type": "markdown",
   "metadata": {},
   "source": [
    "This is easy enough to understand. A Numpy implementation would be like this:"
   ]
  },
  {
   "cell_type": "code",
   "execution_count": 27,
   "metadata": {
    "collapsed": false
   },
   "outputs": [
    {
     "name": "stdout",
     "output_type": "stream",
     "text": [
      "[ 1  2  3  4  5  6  7  8  9 10]\n",
      "[  1   4   9  16  25  36  49  64  81 100]\n"
     ]
    }
   ],
   "source": [
    "import numpy as np\n",
    "\n",
    "A = np.arange(1,11)      # Numpy's equivalent of range; A is an array.\n",
    "print A\n",
    "A = A**2\n",
    "print A"
   ]
  },
  {
   "cell_type": "markdown",
   "metadata": {},
   "source": [
    "We can apply the squaring operator to every element in our array by simply squaring the array itself! This works for other operations, such as addition and subtraction. Something to notice is that the way these variables are printed is slightly different; lists have commas and Numpy arrays do not."
   ]
  },
  {
   "cell_type": "code",
   "execution_count": 28,
   "metadata": {
    "collapsed": false
   },
   "outputs": [
    {
     "name": "stdout",
     "output_type": "stream",
     "text": [
      "[101 102 103 104 105 106 107 108 109 110]\n",
      "[-4 -3 -2 -1  0  1  2  3  4  5]\n",
      "[ 2  4  6  8 10 12 14 16 18 20]\n",
      "[ 0.1  0.2  0.3  0.4  0.5  0.6  0.7  0.8  0.9  1. ]\n"
     ]
    }
   ],
   "source": [
    "A = np.arange(1,11)\n",
    "\n",
    "# add 100 to each element of A\n",
    "print  A + 100\n",
    "\n",
    "# subtract 5 from each element of A\n",
    "print  A - 5\n",
    "\n",
    "# multiply each element of A by 2\n",
    "print  2*A\n",
    "\n",
    "# divide each element of A by 10\n",
    "print  A/10"
   ]
  },
  {
   "cell_type": "markdown",
   "metadata": {},
   "source": [
    "Multiplication is a bit different; as a math person, it would make the most sense for the product of two arrays to be equivalent to the dot product, but this is not the case."
   ]
  },
  {
   "cell_type": "code",
   "execution_count": 7,
   "metadata": {
    "collapsed": false
   },
   "outputs": [
    {
     "name": "stdout",
     "output_type": "stream",
     "text": [
      "[ 10  40  90 160 250]\n"
     ]
    }
   ],
   "source": [
    "# construct arrays from a Python list\n",
    "A = np.array( [1,2,3,4,5] )\n",
    "B = np.array( [10,20,30,40,50] )\n",
    "\n",
    "print A*B"
   ]
  },
  {
   "cell_type": "markdown",
   "metadata": {},
   "source": [
    "Notice that we get an array back, instead of a scalar value. This is an important difference: **arrays are not vectors, they just act like them for some operations**. Arrays always perform operations *element-by-element*. So, the first element of A is multiplied by the first element of B, etc.\n",
    "\n",
    "Arrays, like lists, can be 2D, and can thus be used to act as matrices. Be careful, though; because of the element-by-element nature of arrays, matrix multiplication will not return the desired result."
   ]
  },
  {
   "cell_type": "code",
   "execution_count": 10,
   "metadata": {
    "collapsed": false
   },
   "outputs": [
    {
     "name": "stdout",
     "output_type": "stream",
     "text": [
      "32\n",
      "element-by-element multiplication:\n",
      "[[0 0 2]\n",
      " [4 2 3]\n",
      " [1 5 0]]\n",
      "actual matrix-matrix multiplication:\n",
      "[[ 1  7  2]\n",
      " [11 19  4]\n",
      " [ 4  3  3]]\n"
     ]
    }
   ],
   "source": [
    "v1 = np.array([1,2,3])\n",
    "v2 = np.array([4,5,6])\n",
    "\n",
    "print np.dot(v1, v2)    # actual dot product\n",
    "\n",
    "A = np.array([ [1,0,1], [1,2,3], [1,1,0] ])\n",
    "B = np.array([ [0,2,2], [4,1,1], [1,5,0] ])\n",
    "\n",
    "print 'element-by-element multiplication:'\n",
    "print A*B\n",
    "print 'actual matrix-matrix multiplication:'\n",
    "print np.dot(A,B)"
   ]
  },
  {
   "cell_type": "markdown",
   "metadata": {},
   "source": [
    "Very different results! This throws many people for a loop (no pun intended), including those who have used Numpy quite a bit.\n",
    "\n",
    "Another powerful feature of Numpy's arrays is its indexing. For example, to get the third element of the second row of a matrix, we would write:"
   ]
  },
  {
   "cell_type": "code",
   "execution_count": 18,
   "metadata": {
    "collapsed": false
   },
   "outputs": [
    {
     "name": "stdout",
     "output_type": "stream",
     "text": [
      "[[1 2 3]\n",
      " [4 5 6]\n",
      " [7 8 9]]\n",
      "6\n"
     ]
    }
   ],
   "source": [
    "A = np.array([ [1,2,3], [4,5,6], [7,8,9] ])\n",
    "\n",
    "print A\n",
    "print A[1, 2]"
   ]
  },
  {
   "cell_type": "markdown",
   "metadata": {},
   "source": [
    "That is to say, 2D arrays are indexed like `[row, column]`. This is useful, but what's even more useful is selecting entire rows or columns, or both! To get the third row of this array, we would write:"
   ]
  },
  {
   "cell_type": "code",
   "execution_count": 19,
   "metadata": {
    "collapsed": false
   },
   "outputs": [
    {
     "name": "stdout",
     "output_type": "stream",
     "text": [
      "[7 8 9]\n"
     ]
    }
   ],
   "source": [
    "print A[2]"
   ]
  },
  {
   "cell_type": "markdown",
   "metadata": {},
   "source": [
    "(We do not need to specify columns to select a row). How would we go about selecting a column? For example, to get the second column, we cannot use `A[1]` as that would get the second *row*. Here's how:"
   ]
  },
  {
   "cell_type": "code",
   "execution_count": 20,
   "metadata": {
    "collapsed": false
   },
   "outputs": [
    {
     "name": "stdout",
     "output_type": "stream",
     "text": [
      "[2 5 8]\n"
     ]
    }
   ],
   "source": [
    "print A[:, 1]"
   ]
  },
  {
   "cell_type": "markdown",
   "metadata": {},
   "source": [
    "The `:` means \"select all (rows/columns)\". We could have accessed the third row of our array using `A[2, :]` (try it out!).\n",
    "\n",
    "Now, what if we only wanted to select every element except the first one of the second column? If we had a Python list and we wanted to skip the first element (index 0), we would write `SomeList[1:]`. Well, it turns out, Numpy arrays support that as well!"
   ]
  },
  {
   "cell_type": "code",
   "execution_count": 22,
   "metadata": {
    "collapsed": false
   },
   "outputs": [
    {
     "name": "stdout",
     "output_type": "stream",
     "text": [
      "[5 8]\n"
     ]
    }
   ],
   "source": [
    "print A[1:, 1]"
   ]
  },
  {
   "cell_type": "markdown",
   "metadata": {},
   "source": [
    "This allows us to create block matrices easily enough. Let's get the 2x2 bottom right corner of our matrix A:"
   ]
  },
  {
   "cell_type": "code",
   "execution_count": 23,
   "metadata": {
    "collapsed": false
   },
   "outputs": [
    {
     "name": "stdout",
     "output_type": "stream",
     "text": [
      "[[5 6]\n",
      " [8 9]]\n"
     ]
    }
   ],
   "source": [
    "print A[1:3, 1:3]"
   ]
  },
  {
   "cell_type": "markdown",
   "metadata": {},
   "source": [
    "Awesome! Easy enough indeed.\n",
    "\n",
    "Numpy also has many, *many* built-in features, such as linear system solvers ($A\\vec{x} = \\vec{b}$), random number generators, ODE solvers, etc. I'll list a few useful features:"
   ]
  },
  {
   "cell_type": "code",
   "execution_count": 43,
   "metadata": {
    "collapsed": false
   },
   "outputs": [
    {
     "name": "stdout",
     "output_type": "stream",
     "text": [
      "[[1 2 3]\n",
      " [4 5 6]\n",
      " [7 8 9]]\n",
      "[[7 8 9]\n",
      " [1 2 3]\n",
      " [4 5 6]]\n",
      "[[4 5 6]\n",
      " [7 8 9]\n",
      " [1 2 3]]\n",
      "[[3 1 2]\n",
      " [6 4 5]\n",
      " [9 7 8]]\n",
      "[[2 3 1]\n",
      " [5 6 4]\n",
      " [8 9 7]]\n",
      "\n",
      "[1 2 3 4 5 6 7 8 9]\n",
      "\n",
      "[[ 1  2  3  4]\n",
      " [ 5  6  7  8]\n",
      " [ 9 10 11 12]\n",
      " [13 14 15 16]]\n",
      "[[ 1  2  3  4  5  6  7  8]\n",
      " [ 9 10 11 12 13 14 15 16]]\n",
      "\n",
      "[[ 1  2  3  4]\n",
      " [ 5  6  7  8]\n",
      " [ 9 10 11 12]\n",
      " [13 14 15 16]\n",
      " [ 1  1  1  1]\n",
      " [ 0  0  0  0]]\n",
      "\n",
      "[[ 1  2  3  4  1  1]\n",
      " [ 5  6  7  8  0  0]\n",
      " [ 9 10 11 12  2  2]\n",
      " [13 14 15 16  3  3]]\n"
     ]
    }
   ],
   "source": [
    "# a 5-by-4 matrix of 1s, which are created as 64-bit floats\n",
    "np.ones( (5, 4), dtype=np.float64 )\n",
    "\n",
    "# a 2-by-2 matrix of 0s, which are created as 32-bit ints\n",
    "np.zeros( (2,2), dtype=np.int32 )\n",
    "\n",
    "# shifting the rows and columns of matrices\n",
    "A = np.array([ [1,2,3], [4,5,6], [7,8,9] ])\n",
    "print A\n",
    "# shift rows down\n",
    "print np.roll(A, 1, 0)     # arguments: array, shift amount, axis (0 = rows, 1 = cols)\n",
    "# shift rows up\n",
    "print np.roll(A, -1, 0)\n",
    "# shift columns to the right\n",
    "print np.roll(A, 1, 1)\n",
    "# shift columns to the left\n",
    "print np.roll(A, -1, 1)\n",
    "print \n",
    "\n",
    "# allocate memory to a 10-by-10 matrix of 64-bit floats\n",
    "B = np.empty( (10, 10), dtype=np.float64 )\n",
    "\n",
    "# create an array of 20 evenly spaced numbers in interval [2,5] (inclusive)\n",
    "np.linspace(2, 5, 20)\n",
    "\n",
    "# mean of an array\n",
    "np.mean(A)\n",
    "\n",
    "# \"flatten\" an array (convert a n-D array to 1D)\n",
    "print A.flatten()\n",
    "print\n",
    "\n",
    "\n",
    "# reshape a 4-by-4 array to a 2-by-8 array\n",
    "C = np.array([ [1,2,3,4], [5,6,7,8], [9,10,11,12], [13,14,15,16] ])\n",
    "print C\n",
    "print C.reshape(2, 8)\n",
    "print \n",
    "\n",
    "\n",
    "# vertically merge a 4-by-4 array with a 2-by-4 array\n",
    "D = np.array([ [1,1,1,1], [0,0,0,0] ])\n",
    "print np.vstack([C, D])                    # notice that we put C and D inside a list!\n",
    "print\n",
    "\n",
    "\n",
    "# horiziontally merge a 4-by-4 array with a 4-by-2 array\n",
    "E = np.array([ [1,1], [0,0], [2,2], [3,3] ])\n",
    "print np.hstack([C, E])"
   ]
  },
  {
   "cell_type": "code",
   "execution_count": null,
   "metadata": {
    "collapsed": true
   },
   "outputs": [],
   "source": []
  }
 ],
 "metadata": {
  "kernelspec": {
   "display_name": "Python 2",
   "language": "python",
   "name": "python2"
  },
  "language_info": {
   "codemirror_mode": {
    "name": "ipython",
    "version": 2
   },
   "file_extension": ".py",
   "mimetype": "text/x-python",
   "name": "python",
   "nbconvert_exporter": "python",
   "pygments_lexer": "ipython2",
   "version": "2.7.6"
  }
 },
 "nbformat": 4,
 "nbformat_minor": 0
}
